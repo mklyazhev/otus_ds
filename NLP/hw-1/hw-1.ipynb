{
 "cells": [
  {
   "cell_type": "markdown",
   "id": "9bf7d847",
   "metadata": {},
   "source": [
    "# Parsing\n",
    "\n",
    "Для данного задания буду парсить новостной сайт тематики видеоигр, фильмов и сериалов, который я любил читать в подростковом возрасте."
   ]
  },
  {
   "cell_type": "code",
   "execution_count": 1,
   "id": "2bc84da3",
   "metadata": {},
   "outputs": [],
   "source": [
    "import numpy as np\n",
    "import pandas as pd\n",
    "\n",
    "import sys\n",
    "\n",
    "import requests\n",
    "from bs4 import BeautifulSoup\n",
    "import dateparser\n",
    "import time\n",
    "\n",
    "import nltk\n",
    "import pymorphy2\n",
    "import re\n",
    "from tqdm import tqdm\n",
    "from datetime import datetime\n",
    "\n",
    "from sklearn.model_selection import train_test_split\n",
    "from sklearn.feature_extraction.text import TfidfVectorizer\n",
    "from sklearn.linear_model import LinearRegression\n",
    "from sklearn.ensemble import RandomForestRegressor\n",
    "from sklearn.metrics import mean_squared_error, r2_score\n",
    "\n",
    "import seaborn as sns\n",
    "import matplotlib.pyplot as plt"
   ]
  },
  {
   "cell_type": "code",
   "execution_count": 7,
   "id": "9aceb40c",
   "metadata": {},
   "outputs": [],
   "source": [
    "url = \"https://gamebomb.ru/news\"\n",
    "page_param = \"page=\"\n",
    "\n",
    "headers = {\n",
    "    \"User-Agent\": \"Mozilla/5.0 (Windows NT 10.0; Win64; x64) AppleWebKit/537.36 (KHTML, like Gecko) Chrome/91.0.4472.124 Safari/537.36\"\n",
    "}\n",
    "\n",
    "news_data_dict = {\n",
    "    \"url\": [],\n",
    "    \"title\": [],\n",
    "    \"text\": [],\n",
    "    \"datetime\": [],\n",
    "    \"count_views\": [],\n",
    "}\n",
    "\n",
    "# Пройдемся по страницам, пока не соберем 2000 новостей\n",
    "page_number = 1\n",
    "max_page_number = 1864\n",
    "news_count = 0\n",
    "target_news_count = 2000\n",
    "\n",
    "while news_count <= target_news_count:\n",
    "    # Проверка на то, что не ушли за пределы страниц с новостями\n",
    "    if page_number > max_page_number:\n",
    "        break\n",
    "        \n",
    "    # Получаем html-код стриницы\n",
    "    page_response = requests.get(url + \"?\" + page_param + str(page_number), headers=headers)\n",
    "    page_soup = BeautifulSoup(page_response.text, \"html.parser\")\n",
    "    \n",
    "    news_items = page_soup.find_all(\"tr\", class_=\"gbnews-listShort\")\n",
    "    \n",
    "    for news_item in news_items:\n",
    "        # Получаем ссылку на новость\n",
    "        news_url_raw = news_item.find(\"a\", class_=\"img\")\n",
    "        \n",
    "        if not news_url_raw:\n",
    "            continue\n",
    "            \n",
    "        news_url = news_url_raw.get(\"href\")\n",
    "       \n",
    "        # Получаем заголовок новости\n",
    "        news_title_raw = news_item.find(\"div\", class_=\"sub\").find_next(\"h3\")\n",
    "        \n",
    "        if not news_title_raw:\n",
    "            continue\n",
    "            \n",
    "        news_title = news_title_raw.get_text(strip=True)\n",
    "    \n",
    "        # Получаем дату публикации новости\n",
    "        news_datetime_raw = news_item.find(\"div\", class_=\"sub\")\n",
    "        \n",
    "        if not news_datetime_raw:\n",
    "            continue\n",
    "            \n",
    "        news_datetime = news_datetime_raw.get_text(strip=True)\n",
    "        news_datetime_formatted = dateparser.parse(news_datetime).strftime(\"%Y-%m-%d %H:%M:%S\")\n",
    "        \n",
    "        # Получаем количество просмотров\n",
    "        news_views_raw = news_item.find(\"span\", class_=\"views-bubble\")\n",
    "        \n",
    "        if not news_views_raw:\n",
    "            continue\n",
    "            \n",
    "        news_views = news_views_raw.get_text(strip=True)\n",
    "    \n",
    "        # Открываем страницу с новостью\n",
    "        news_response = requests.get(news_url, headers=headers)\n",
    "        news_response.raise_for_status()\n",
    "        news_soup = BeautifulSoup(news_response.text, \"html.parser\")\n",
    "    \n",
    "        # Получаем текст статьи\n",
    "        news_text_raw = news_soup.find(\"div\", itemprop=\"articleBody\")\n",
    "    \n",
    "        if not news_text_raw:\n",
    "            continue\n",
    "\n",
    "        news_text = news_text_raw.get_text(strip=True)\n",
    "        \n",
    "        # Сохраним полученные фичи в словарь\n",
    "        news_data_dict[\"url\"].append(news_url)\n",
    "        news_data_dict[\"title\"].append(news_title)\n",
    "        news_data_dict[\"text\"].append(news_text)\n",
    "        news_data_dict[\"datetime\"].append(news_datetime_formatted)\n",
    "        news_data_dict[\"count_views\"].append(news_views)\n",
    "        \n",
    "        news_count += 1\n",
    "        \n",
    "        # Ждем пол секунды, чтобы не вызывать подозрений частотой запросов\n",
    "        time.sleep(0.5)\n",
    "                \n",
    "    page_number += 1\n"
   ]
  },
  {
   "cell_type": "code",
   "execution_count": 10,
   "id": "95de2fcc",
   "metadata": {},
   "outputs": [
    {
     "data": {
      "text/plain": [
       "232"
      ]
     },
     "execution_count": 10,
     "metadata": {},
     "output_type": "execute_result"
    }
   ],
   "source": [
    "sys.getsizeof(news_data_dict)"
   ]
  },
  {
   "cell_type": "code",
   "execution_count": 14,
   "id": "79027dd3",
   "metadata": {},
   "outputs": [
    {
     "name": "stdout",
     "output_type": "stream",
     "text": [
      "(2020, 5)\n"
     ]
    },
    {
     "data": {
      "text/html": [
       "<div>\n",
       "<style scoped>\n",
       "    .dataframe tbody tr th:only-of-type {\n",
       "        vertical-align: middle;\n",
       "    }\n",
       "\n",
       "    .dataframe tbody tr th {\n",
       "        vertical-align: top;\n",
       "    }\n",
       "\n",
       "    .dataframe thead th {\n",
       "        text-align: right;\n",
       "    }\n",
       "</style>\n",
       "<table border=\"1\" class=\"dataframe\">\n",
       "  <thead>\n",
       "    <tr style=\"text-align: right;\">\n",
       "      <th></th>\n",
       "      <th>url</th>\n",
       "      <th>title</th>\n",
       "      <th>text</th>\n",
       "      <th>datetime</th>\n",
       "      <th>count_views</th>\n",
       "    </tr>\n",
       "  </thead>\n",
       "  <tbody>\n",
       "    <tr>\n",
       "      <th>0</th>\n",
       "      <td>https://gamebomb.ru/gbnews/41500</td>\n",
       "      <td>Дженна Ортега новым фильмом вместо «Уэнсдей 2»...</td>\n",
       "      <td>В сети появилась новая информация по новому фи...</td>\n",
       "      <td>2023-12-03 14:47:00</td>\n",
       "      <td>1315</td>\n",
       "    </tr>\n",
       "    <tr>\n",
       "      <th>1</th>\n",
       "      <td>https://gamebomb.ru/gbnews/41499</td>\n",
       "      <td>Новый «Гарри Поттер» Эмму Уотсон с незнакомым ...</td>\n",
       "      <td>В сети появились новые кадры, на которых предс...</td>\n",
       "      <td>2023-12-03 13:55:00</td>\n",
       "      <td>1873</td>\n",
       "    </tr>\n",
       "    <tr>\n",
       "      <th>2</th>\n",
       "      <td>https://gamebomb.ru/gbnews/41498</td>\n",
       "      <td>S.T.A.L.K.E.R. 2 засветили в новом видео и уди...</td>\n",
       "      <td>Компания GSC Game World предстала новый официа...</td>\n",
       "      <td>2023-12-02 14:09:00</td>\n",
       "      <td>3317</td>\n",
       "    </tr>\n",
       "    <tr>\n",
       "      <th>3</th>\n",
       "      <td>https://gamebomb.ru/gbnews/41497</td>\n",
       "      <td>Rainbow Six: Siege и еще 3 игры для Steam дают...</td>\n",
       "      <td>Популярный экшен Tom Clancy's Rainbow Six Sieg...</td>\n",
       "      <td>2023-12-02 13:25:00</td>\n",
       "      <td>17148</td>\n",
       "    </tr>\n",
       "    <tr>\n",
       "      <th>4</th>\n",
       "      <td>https://gamebomb.ru/gbnews/41496</td>\n",
       "      <td>Новый «Безумный Макс» показал нового главного ...</td>\n",
       "      <td>В сети появился первый официальный трейлер сов...</td>\n",
       "      <td>2023-12-01 12:32:00</td>\n",
       "      <td>3954</td>\n",
       "    </tr>\n",
       "  </tbody>\n",
       "</table>\n",
       "</div>"
      ],
      "text/plain": [
       "                                url  \\\n",
       "0  https://gamebomb.ru/gbnews/41500   \n",
       "1  https://gamebomb.ru/gbnews/41499   \n",
       "2  https://gamebomb.ru/gbnews/41498   \n",
       "3  https://gamebomb.ru/gbnews/41497   \n",
       "4  https://gamebomb.ru/gbnews/41496   \n",
       "\n",
       "                                               title  \\\n",
       "0  Дженна Ортега новым фильмом вместо «Уэнсдей 2»...   \n",
       "1  Новый «Гарри Поттер» Эмму Уотсон с незнакомым ...   \n",
       "2  S.T.A.L.K.E.R. 2 засветили в новом видео и уди...   \n",
       "3  Rainbow Six: Siege и еще 3 игры для Steam дают...   \n",
       "4  Новый «Безумный Макс» показал нового главного ...   \n",
       "\n",
       "                                                text             datetime  \\\n",
       "0  В сети появилась новая информация по новому фи...  2023-12-03 14:47:00   \n",
       "1  В сети появились новые кадры, на которых предс...  2023-12-03 13:55:00   \n",
       "2  Компания GSC Game World предстала новый официа...  2023-12-02 14:09:00   \n",
       "3  Популярный экшен Tom Clancy's Rainbow Six Sieg...  2023-12-02 13:25:00   \n",
       "4  В сети появился первый официальный трейлер сов...  2023-12-01 12:32:00   \n",
       "\n",
       "  count_views  \n",
       "0        1315  \n",
       "1        1873  \n",
       "2        3317  \n",
       "3       17148  \n",
       "4        3954  "
      ]
     },
     "execution_count": 14,
     "metadata": {},
     "output_type": "execute_result"
    }
   ],
   "source": [
    "news_df = pd.DataFrame.from_dict(news_data_dict, orient=\"columns\")\n",
    "print(news_df.shape)\n",
    "news_df.head()"
   ]
  },
  {
   "cell_type": "code",
   "execution_count": 19,
   "id": "938ace8f",
   "metadata": {},
   "outputs": [],
   "source": [
    "news_df.to_csv(\"news_data.csv\", index=False)"
   ]
  },
  {
   "cell_type": "markdown",
   "id": "13504e7e",
   "metadata": {},
   "source": [
    "# Data preprocessing"
   ]
  },
  {
   "cell_type": "markdown",
   "id": "4833df6e",
   "metadata": {},
   "source": [
    "Подготовим данные для обучения модели. Будем решать задачу предсказания количества просмотров в день по тексту заголовка. Т.к. пользователи по заголовку статьи определяют, хотят ли они читать весь текст."
   ]
  },
  {
   "cell_type": "code",
   "execution_count": 2,
   "id": "0769f8d6",
   "metadata": {},
   "outputs": [
    {
     "data": {
      "text/html": [
       "<div>\n",
       "<style scoped>\n",
       "    .dataframe tbody tr th:only-of-type {\n",
       "        vertical-align: middle;\n",
       "    }\n",
       "\n",
       "    .dataframe tbody tr th {\n",
       "        vertical-align: top;\n",
       "    }\n",
       "\n",
       "    .dataframe thead th {\n",
       "        text-align: right;\n",
       "    }\n",
       "</style>\n",
       "<table border=\"1\" class=\"dataframe\">\n",
       "  <thead>\n",
       "    <tr style=\"text-align: right;\">\n",
       "      <th></th>\n",
       "      <th>url</th>\n",
       "      <th>title</th>\n",
       "      <th>text</th>\n",
       "      <th>datetime</th>\n",
       "      <th>count_views</th>\n",
       "    </tr>\n",
       "  </thead>\n",
       "  <tbody>\n",
       "    <tr>\n",
       "      <th>0</th>\n",
       "      <td>https://gamebomb.ru/gbnews/41500</td>\n",
       "      <td>Дженна Ортега новым фильмом вместо «Уэнсдей 2»...</td>\n",
       "      <td>В сети появилась новая информация по новому фи...</td>\n",
       "      <td>2023-12-03 14:47:00</td>\n",
       "      <td>1315</td>\n",
       "    </tr>\n",
       "    <tr>\n",
       "      <th>1</th>\n",
       "      <td>https://gamebomb.ru/gbnews/41499</td>\n",
       "      <td>Новый «Гарри Поттер» Эмму Уотсон с незнакомым ...</td>\n",
       "      <td>В сети появились новые кадры, на которых предс...</td>\n",
       "      <td>2023-12-03 13:55:00</td>\n",
       "      <td>1873</td>\n",
       "    </tr>\n",
       "    <tr>\n",
       "      <th>2</th>\n",
       "      <td>https://gamebomb.ru/gbnews/41498</td>\n",
       "      <td>S.T.A.L.K.E.R. 2 засветили в новом видео и уди...</td>\n",
       "      <td>Компания GSC Game World предстала новый официа...</td>\n",
       "      <td>2023-12-02 14:09:00</td>\n",
       "      <td>3317</td>\n",
       "    </tr>\n",
       "    <tr>\n",
       "      <th>3</th>\n",
       "      <td>https://gamebomb.ru/gbnews/41497</td>\n",
       "      <td>Rainbow Six: Siege и еще 3 игры для Steam дают...</td>\n",
       "      <td>Популярный экшен Tom Clancy's Rainbow Six Sieg...</td>\n",
       "      <td>2023-12-02 13:25:00</td>\n",
       "      <td>17148</td>\n",
       "    </tr>\n",
       "    <tr>\n",
       "      <th>4</th>\n",
       "      <td>https://gamebomb.ru/gbnews/41496</td>\n",
       "      <td>Новый «Безумный Макс» показал нового главного ...</td>\n",
       "      <td>В сети появился первый официальный трейлер сов...</td>\n",
       "      <td>2023-12-01 12:32:00</td>\n",
       "      <td>3954</td>\n",
       "    </tr>\n",
       "  </tbody>\n",
       "</table>\n",
       "</div>"
      ],
      "text/plain": [
       "                                url  \\\n",
       "0  https://gamebomb.ru/gbnews/41500   \n",
       "1  https://gamebomb.ru/gbnews/41499   \n",
       "2  https://gamebomb.ru/gbnews/41498   \n",
       "3  https://gamebomb.ru/gbnews/41497   \n",
       "4  https://gamebomb.ru/gbnews/41496   \n",
       "\n",
       "                                               title  \\\n",
       "0  Дженна Ортега новым фильмом вместо «Уэнсдей 2»...   \n",
       "1  Новый «Гарри Поттер» Эмму Уотсон с незнакомым ...   \n",
       "2  S.T.A.L.K.E.R. 2 засветили в новом видео и уди...   \n",
       "3  Rainbow Six: Siege и еще 3 игры для Steam дают...   \n",
       "4  Новый «Безумный Макс» показал нового главного ...   \n",
       "\n",
       "                                                text             datetime  \\\n",
       "0  В сети появилась новая информация по новому фи...  2023-12-03 14:47:00   \n",
       "1  В сети появились новые кадры, на которых предс...  2023-12-03 13:55:00   \n",
       "2  Компания GSC Game World предстала новый официа...  2023-12-02 14:09:00   \n",
       "3  Популярный экшен Tom Clancy's Rainbow Six Sieg...  2023-12-02 13:25:00   \n",
       "4  В сети появился первый официальный трейлер сов...  2023-12-01 12:32:00   \n",
       "\n",
       "   count_views  \n",
       "0         1315  \n",
       "1         1873  \n",
       "2         3317  \n",
       "3        17148  \n",
       "4         3954  "
      ]
     },
     "execution_count": 2,
     "metadata": {},
     "output_type": "execute_result"
    }
   ],
   "source": [
    "# Загрузим сохраненные данные после парсинга\n",
    "news_df = pd.read_csv(\"news_data.csv\")\n",
    "news_df.head()"
   ]
  },
  {
   "cell_type": "markdown",
   "id": "a577d07c",
   "metadata": {},
   "source": [
    "Для начала посмотрим, как ведет себя целевая переменная."
   ]
  },
  {
   "cell_type": "code",
   "execution_count": 119,
   "id": "c5a23ce1",
   "metadata": {},
   "outputs": [],
   "source": [
    "def calc_days_delta(day1, day2):\n",
    "    date_format = '%Y-%m-%d %H:%M:%S'\n",
    "    \n",
    "    datetime1 = datetime.strptime(day1, date_format)\n",
    "    datetime2 = datetime.strptime(day2, date_format)\n",
    "    \n",
    "    delta_days = abs((datetime1 - datetime2).days)\n",
    "    \n",
    "    return delta_days\n",
    "\n",
    "count_views = [item.count_views for item in news_df.itertuples()]\n",
    "days_delta = [calc_days_delta(item.datetime, \"2023-12-04 23:59:59\") for item in news_df.itertuples()]"
   ]
  },
  {
   "cell_type": "code",
   "execution_count": 120,
   "id": "4bee2a02",
   "metadata": {},
   "outputs": [
    {
     "data": {
      "image/png": "[encoded data removed]",
      "text/plain": [
       "<Figure size 640x480 with 1 Axes>"
      ]
     },
     "metadata": {},
     "output_type": "display_data"
    }
   ],
   "source": [
    "sns.scatterplot(x=days_delta, y=count_views)\n",
    "plt.xlabel(\"Days delta\")\n",
    "plt.ylabel(\"Count views\")\n",
    "plt.show()"
   ]
  },
  {
   "cell_type": "code",
   "execution_count": 124,
   "id": "94181b0b",
   "metadata": {},
   "outputs": [
    {
     "data": {
      "image/png": "[encoded data removed]",
      "text/plain": [
       "<Figure size 640x480 with 1 Axes>"
      ]
     },
     "metadata": {},
     "output_type": "display_data"
    }
   ],
   "source": [
    "sns.boxplot(x=count_views)\n",
    "plt.show()"
   ]
  },
  {
   "cell_type": "markdown",
   "id": "e1347d4d",
   "metadata": {},
   "source": [
    "Видно, что большая часть данных концентрируется на маленьких значениях, но есть маленькая часть очень больших выбросов. "
   ]
  },
  {
   "cell_type": "code",
   "execution_count": 130,
   "id": "d293e7fe",
   "metadata": {},
   "outputs": [
    {
     "data": {
      "text/plain": [
       "(1919, 5)"
      ]
     },
     "execution_count": 130,
     "metadata": {},
     "output_type": "execute_result"
    }
   ],
   "source": [
    "percentile_95 = np.percentile(count_views, 95)\n",
    "news_df_95 = news_df.loc[news_df[\"count_views\"] <= percentile_95]\n",
    "news_df_95.shape"
   ]
  },
  {
   "cell_type": "code",
   "execution_count": 222,
   "id": "bcef4b54",
   "metadata": {},
   "outputs": [],
   "source": [
    "# Функция для удаления пунктуации и цифр\n",
    "def words_only(text, regex_pattern=None):\n",
    "    regex = re.compile(r\"[А-Яа-яA-zёЁ]+\")\n",
    "    \n",
    "    if regex_pattern:\n",
    "        regex = re.compile(regex_pattern)      \n",
    "\n",
    "    try:\n",
    "        return \" \".join(regex.findall(text)).lower()\n",
    "    except:\n",
    "        return \"\"\n",
    "    \n",
    "# Функция предобработки текстов (удаление стоп слов, пунктуации, цифр и лемматизация)\n",
    "def process_data(data):\n",
    "    stop_words = nltk.corpus.stopwords.words(\"russian\")\n",
    "    word_tokenizer = nltk.WordPunctTokenizer()\n",
    "    morph = pymorphy2.MorphAnalyzer()\n",
    "    \n",
    "    texts = []\n",
    "\n",
    "    for item in tqdm(data):\n",
    "\n",
    "        text_lower = words_only(item.title)\n",
    "        tokens = word_tokenizer.tokenize(text_lower)\n",
    "\n",
    "        tokens = [word for word in tokens if (word not in all_stop_words and not word.isnumeric())]\n",
    "        \n",
    "        tokens_lemmatized = [morph.parse(x)[0].normal_form for x in tokens]\n",
    "\n",
    "        texts.append(\" \".join(tokens_lemmatized))\n",
    "\n",
    "    return texts\n",
    "\n",
    "# Функция для вычисления таргета\n",
    "def calc_mean_views_per_day(count_views, date_publication):\n",
    "    delta_days = calc_days_delta(datetime_parsed, datetime_publication)\n",
    "    \n",
    "    # Обойдем ошибку при делении на 0\n",
    "    if delta_days == 0:\n",
    "        delta_days = 1\n",
    "    \n",
    "    # Будем считать среднее количество просмотров в день за 7 дней или меньше,\n",
    "    # для этого вычтем необходимое количество просмотров, если оно превышает наш порог\n",
    "    treshold = 7\n",
    "    if delta_days <= treshold:\n",
    "        return count_views / delta_days\n",
    "    else:\n",
    "        return (count_views - ((delta_days - treshold) * (count_views / delta_days))) / treshold"
   ]
  },
  {
   "cell_type": "code",
   "execution_count": 223,
   "id": "fc4de67a",
   "metadata": {},
   "outputs": [
    {
     "name": "stderr",
     "output_type": "stream",
     "text": [
      "1919it [00:03, 602.86it/s]\n"
     ]
    },
    {
     "data": {
      "text/plain": [
       "(1919, 1919)"
      ]
     },
     "execution_count": 223,
     "metadata": {},
     "output_type": "execute_result"
    }
   ],
   "source": [
    "# Обработаем данные и сохраним в отдельные объекты\n",
    "y_95 = [calc_mean_views_per_day(item.count_views, item.datetime) for item in news_df_95.itertuples()]\n",
    "texts_95 = process_data(news_df_95.itertuples())\n",
    "\n",
    "len(count_views_95), len(y_95)"
   ]
  },
  {
   "cell_type": "code",
   "execution_count": 224,
   "id": "a6c7687f",
   "metadata": {},
   "outputs": [
    {
     "name": "stdout",
     "output_type": "stream",
     "text": [
      "[1315.0, 1873.0, 3317.0, 17148.0, 1977.0]\n",
      "['дженна ортег новый фильм вместо уэнсдея взбесить фанат', 'новый гарри поттер эмма уотсон незнакомый вид показать новый кадр', 's t a l k e r засветить новый видео удивить фанат', 'rainbow six siege игра steam давать бесплатно', 'новый безумный макс показать новый главное герой первый кадр']\n"
     ]
    }
   ],
   "source": [
    "print(y_95[:5])\n",
    "print(texts_95[:5])"
   ]
  },
  {
   "cell_type": "code",
   "execution_count": 225,
   "id": "982fd8e3",
   "metadata": {},
   "outputs": [],
   "source": [
    "# Разобьем полученные тексты на тренировочные и обучающие\n",
    "train_texts, test_texts, train_y, test_y = train_test_split(texts_95, y_95, test_size=0.2, random_state=42)"
   ]
  },
  {
   "cell_type": "code",
   "execution_count": 240,
   "id": "b5a92245",
   "metadata": {},
   "outputs": [
    {
     "data": {
      "text/plain": [
       "array(['assassin', 'call', 'creed', 'cry', 'cyberpunk', 'dc', 'duty',\n",
       "       'effect', 'elder', 'far'], dtype=object)"
      ]
     },
     "execution_count": 240,
     "metadata": {},
     "output_type": "execute_result"
    }
   ],
   "source": [
    "# Обучим tf-idf vectorizer на наших текстах, чтобы представить их в виде векторов\n",
    "vectorizer = TfidfVectorizer(max_features=200, norm=None)\n",
    "vectorizer.fit(texts_95)\n",
    "\n",
    "# Топ-10 слов\n",
    "vectorizer.get_feature_names_out()[:10]"
   ]
  },
  {
   "cell_type": "markdown",
   "id": "36f9019e",
   "metadata": {},
   "source": [
    "Получается, что наибольший вес имеют названия игр."
   ]
  },
  {
   "cell_type": "code",
   "execution_count": 243,
   "id": "8293bec8",
   "metadata": {},
   "outputs": [
    {
     "name": "stdout",
     "output_type": "stream",
     "text": [
      "Вес слова \"бесплатно\": 3.508623176405316\n",
      "Вес слова \"assassin\": 5.041100047703289\n",
      "Вес слова \"call\": 5.939041640909247\n",
      "Вес слова \"elder\": 5.939041640909247\n"
     ]
    }
   ],
   "source": [
    "def get_word_weight(word, vocabulary, idf_weights):\n",
    "    word_index = vocabulary.get(word, None)\n",
    "    \n",
    "    if word_index is not None:\n",
    "        word_weight = idf_weights[word_index]\n",
    "        return f'Вес слова \"{word}\": {word_weight}'\n",
    "    else:\n",
    "        return f'Слово \"{word}\" не найдено в словаре.'\n",
    "        \n",
    "# Посмотрим, какой вес имеют слова с наибольшим весом\n",
    "print(get_word_weight(\"бесплатно\", vectorizer.vocabulary_, vectorizer.idf_))\n",
    "print(get_word_weight(\"assassin\", vectorizer.vocabulary_, vectorizer.idf_))\n",
    "print(get_word_weight(\"call\", vectorizer.vocabulary_, vectorizer.idf_))\n",
    "print(get_word_weight(\"elder\", vectorizer.vocabulary_, vectorizer.idf_))"
   ]
  },
  {
   "cell_type": "code",
   "execution_count": 241,
   "id": "8f3b52cf",
   "metadata": {},
   "outputs": [],
   "source": [
    "train_X = vectorizer.fit_transform(train_texts)\n",
    "test_X  = vectorizer.transform(test_texts)"
   ]
  },
  {
   "cell_type": "markdown",
   "id": "308b9284",
   "metadata": {},
   "source": [
    "# Model building"
   ]
  },
  {
   "cell_type": "code",
   "execution_count": 234,
   "id": "def81f98",
   "metadata": {},
   "outputs": [
    {
     "name": "stdout",
     "output_type": "stream",
     "text": [
      "Linear Regression Results:\n",
      "Mean Squared Error: 523642.3489245265\n",
      "R-squared: -0.044781775921863165\n"
     ]
    }
   ],
   "source": [
    "linreg = LinearRegression()\n",
    "linreg.fit(train_X, train_y)\n",
    "\n",
    "pred_y_linreg = linreg.predict(test_X)\n",
    "\n",
    "mse = mean_squared_error(test_y, pred_y_linreg)\n",
    "r2 = r2_score(test_y, pred_y_linreg)\n",
    "\n",
    "print(f'Linear Regression Results:')\n",
    "print(f'Mean Squared Error: {mse}')\n",
    "print(f'R-squared: {r2}')"
   ]
  },
  {
   "cell_type": "code",
   "execution_count": 235,
   "id": "4478bba6",
   "metadata": {},
   "outputs": [
    {
     "name": "stdout",
     "output_type": "stream",
     "text": [
      "\n",
      "Random Forest Regressor Results:\n",
      "Mean Squared Error: 711538.8966419675\n",
      "R-squared: -0.4196767576150069\n"
     ]
    }
   ],
   "source": [
    "reg_forest = RandomForestRegressor()\n",
    "reg_forest.fit(train_X, train_y)\n",
    "\n",
    "pred_y_forest = reg_forest.predict(test_X)\n",
    "\n",
    "mse_forest = mean_squared_error(test_y, pred_y_forest)\n",
    "r2_forest = r2_score(test_y, pred_y_forest)\n",
    "\n",
    "print('\\nRandom Forest Regressor Results:')\n",
    "print(f'Mean Squared Error: {mse_forest}')\n",
    "print(f'R-squared: {r2_forest}')"
   ]
  },
  {
   "cell_type": "code",
   "execution_count": 253,
   "id": "61977b3c",
   "metadata": {},
   "outputs": [
    {
     "name": "stdout",
     "output_type": "stream",
     "text": [
      "[LightGBM] [Warning] Auto-choosing row-wise multi-threading, the overhead of testing was 0.000981 seconds.\n",
      "You can set `force_row_wise=true` to remove the overhead.\n",
      "And if memory is not enough, you can set `force_col_wise=true`.\n",
      "[1]\tvalid_0's l2: 501405\n",
      "Training until validation scores don't improve for 10 rounds\n",
      "[2]\tvalid_0's l2: 499581\n",
      "[3]\tvalid_0's l2: 498081\n",
      "[4]\tvalid_0's l2: 497079\n",
      "[5]\tvalid_0's l2: 496211\n",
      "[6]\tvalid_0's l2: 495200\n",
      "[7]\tvalid_0's l2: 494628\n",
      "[8]\tvalid_0's l2: 493610\n",
      "[9]\tvalid_0's l2: 492214\n",
      "[10]\tvalid_0's l2: 491799\n",
      "[11]\tvalid_0's l2: 491286\n",
      "[12]\tvalid_0's l2: 490137\n",
      "[13]\tvalid_0's l2: 489379\n",
      "[14]\tvalid_0's l2: 489365\n",
      "[15]\tvalid_0's l2: 489647\n",
      "[16]\tvalid_0's l2: 488773\n",
      "[17]\tvalid_0's l2: 489124\n",
      "[18]\tvalid_0's l2: 489010\n",
      "[19]\tvalid_0's l2: 489133\n",
      "[20]\tvalid_0's l2: 489661\n",
      "[21]\tvalid_0's l2: 489356\n",
      "[22]\tvalid_0's l2: 489539\n",
      "[23]\tvalid_0's l2: 489629\n",
      "[24]\tvalid_0's l2: 489099\n",
      "[25]\tvalid_0's l2: 488717\n",
      "[26]\tvalid_0's l2: 489029\n",
      "[27]\tvalid_0's l2: 489597\n",
      "[28]\tvalid_0's l2: 489816\n",
      "[29]\tvalid_0's l2: 489242\n",
      "[30]\tvalid_0's l2: 489674\n",
      "[31]\tvalid_0's l2: 489118\n",
      "[32]\tvalid_0's l2: 489488\n",
      "[33]\tvalid_0's l2: 489770\n",
      "[34]\tvalid_0's l2: 489263\n",
      "[35]\tvalid_0's l2: 490542\n",
      "Early stopping, best iteration is:\n",
      "[25]\tvalid_0's l2: 488717\n",
      "\n",
      "Random Forest Regressor Results:\n",
      "Mean Squared Error: 488716.7793544056\n",
      "R-squared: 0.02490242489859562\n"
     ]
    },
    {
     "name": "stderr",
     "output_type": "stream",
     "text": [
      "C:\\Users\\mikhail.klyazhev\\Anaconda\\envs\\ds_base\\lib\\site-packages\\lightgbm\\engine.py:181: UserWarning: 'early_stopping_rounds' argument is deprecated and will be removed in a future release of LightGBM. Pass 'early_stopping()' callback via 'callbacks' argument instead.\n",
      "  _log_warning(\"'early_stopping_rounds' argument is deprecated and will be removed in a future release of LightGBM. \"\n"
     ]
    }
   ],
   "source": [
    "import lightgbm as lgb\n",
    "\n",
    "params = {\n",
    "    'objective': 'regression',\n",
    "    'metric': 'mse',\n",
    "    'boosting_type': 'gbdt',\n",
    "    'num_leaves': 31,\n",
    "    'learning_rate': 0.05,\n",
    "    'feature_fraction': 0.9,\n",
    "    \"verbose\": 0,\n",
    "}\n",
    "\n",
    "lgb_train = lgb.Dataset(train_X, label=train_y)\n",
    "lgb_test = lgb.Dataset(test_X, label=test_y, reference=lgb_train)\n",
    "\n",
    "num_round = 100\n",
    "reg_gb = lgb.train(params, lgb_train, num_round, valid_sets=[lgb_test], early_stopping_rounds=10)\n",
    "\n",
    "pred_y_gb = reg_gb.predict(test_X, num_iteration=bst.best_iteration)\n",
    "\n",
    "mse_gb = mean_squared_error(test_y, pred_y_gb)\n",
    "r2_gb = r2_score(test_y, pred_y_gb)\n",
    "\n",
    "print('\\nRandom Forest Regressor Results:')\n",
    "print(f'Mean Squared Error: {mse_gb}')\n",
    "print(f'R-squared: {r2_gb}')"
   ]
  },
  {
   "cell_type": "code",
   "execution_count": 254,
   "id": "f085eda1",
   "metadata": {},
   "outputs": [
    {
     "name": "stdout",
     "output_type": "stream",
     "text": [
      "[ 318.56446312   60.40395213  879.39486422 -115.61394047  679.22226361\n",
      "  131.14325111  143.75130316  798.58831357   80.29492268 -112.84538785]\n",
      "[ 55.15397802  67.29216164  65.99375753  29.01611968 347.83432474\n",
      "  81.14395315 251.54054235 754.28634054  50.30880424  63.49004204]\n",
      "[170.11102066 136.47704435 623.84507432 101.50732641 137.9196622\n",
      " 198.86223571 277.94371836 507.51110497 133.39252409 116.68775029]\n",
      "[ 87.87313433 103.29110512  28.84848485  23.07065217 152.24305556\n",
      " 267.39473684  55.91370558  26.88343558 425.30434783  49.53881279]\n"
     ]
    }
   ],
   "source": [
    "print(pred_y_linreg[:10])\n",
    "print(pred_y_forest[:10])\n",
    "print(pred_y_gb[:10])\n",
    "print(np.array(test_y[:10]))"
   ]
  },
  {
   "cell_type": "markdown",
   "id": "05228d89",
   "metadata": {},
   "source": [
    "# Results"
   ]
  },
  {
   "cell_type": "markdown",
   "id": "41df612b",
   "metadata": {},
   "source": [
    "Лучше всех справился с задачей градиентный бустинг, но результат все равно плохой. Я думаю, что по тексту заголовка не получится достаточно точно определять количество просмотров в день, т.к. не учтено множество факторов, таких как актуальность новости, популярность тематики и т.п."
   ]
  },
  {
   "cell_type": "code",
   "execution_count": null,
   "id": "b02469da",
   "metadata": {},
   "outputs": [],
   "source": []
  }
 ],
 "metadata": {
  "kernelspec": {
   "display_name": "Python 3 (ipykernel)",
   "language": "python",
   "name": "python3"
  },
  "language_info": {
   "codemirror_mode": {
    "name": "ipython",
    "version": 3
   },
   "file_extension": ".py",
   "mimetype": "text/x-python",
   "name": "python",
   "nbconvert_exporter": "python",
   "pygments_lexer": "ipython3",
   "version": "3.9.13"
  }
 },
 "nbformat": 4,
 "nbformat_minor": 5
}
